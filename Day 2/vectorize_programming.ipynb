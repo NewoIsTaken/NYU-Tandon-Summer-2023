{
 "cells": [
  {
   "cell_type": "code",
   "execution_count": 1,
   "metadata": {},
   "outputs": [],
   "source": [
    "import numpy as np\n",
    "import time"
   ]
  },
  {
   "attachments": {},
   "cell_type": "markdown",
   "metadata": {},
   "source": [
    "## Find the sum of a list of numbers\n",
    "- Use a for loop\n",
    "- Use np.sum()"
   ]
  },
  {
   "cell_type": "code",
   "execution_count": 7,
   "metadata": {},
   "outputs": [
    {
     "name": "stdout",
     "output_type": "stream",
     "text": [
      "Using a for loop it took 0.2482004165649414s\n",
      "Using np.sum() it took 0.0013136863708496094s\n",
      "np.sum() is 188.93430127041742 times faster\n"
     ]
    }
   ],
   "source": [
    "list_of_nums = np.ones(1000000)\n",
    "\n",
    "# For loop\n",
    "tic = time.time()\n",
    "sum_val = 0\n",
    "\n",
    "for i in range(1000000):\n",
    "    sum_val += list_of_nums[i]\n",
    "    \n",
    "toc = time.time()\n",
    "for_loop_time = toc - tic\n",
    "print('Using a for loop it took {}s'.format(for_loop_time))\n",
    "\n",
    "# Using numpy.sum()\n",
    "tic = time.time()\n",
    "sum_val = np.sum(list_of_nums)\n",
    "toc = time.time()\n",
    "\n",
    "np_sum_time = toc - tic\n",
    "print('Using np.sum() it took {}s'.format(np_sum_time))\n",
    "\n",
    "print('np.sum() is {} times faster'.format(for_loop_time/np_sum_time))"
   ]
  },
  {
   "attachments": {},
   "cell_type": "markdown",
   "metadata": {},
   "source": [
    "## Find the maximum value in an array\n",
    "- Use a for loop\n",
    "- Use np.amax()"
   ]
  },
  {
   "cell_type": "code",
   "execution_count": 12,
   "metadata": {},
   "outputs": [
    {
     "data": {
      "text/plain": [
       "array([32048, 21362, 93405, ..., 18303, 73428, 44197])"
      ]
     },
     "execution_count": 12,
     "metadata": {},
     "output_type": "execute_result"
    }
   ],
   "source": [
    "list_of_nums = np.arange(100000)\n",
    "np.random.shuffle(list_of_nums)\n",
    "list_of_nums"
   ]
  },
  {
   "cell_type": "code",
   "execution_count": 31,
   "metadata": {},
   "outputs": [
    {
     "name": "stdout",
     "output_type": "stream",
     "text": [
      "Using a for loop it took 0.021040678024291992s and the maximum value is 99999\n",
      "Using np.amax() it took 0.0004563331604003906s and the maximum value is 99999\n",
      "np.amax() is 46.108150470219435 times faster\n"
     ]
    }
   ],
   "source": [
    "# For loop\n",
    "tic = time.time()\n",
    "max_val = -1\n",
    "\n",
    "for i in range(100000):\n",
    "    if list_of_nums[i] > max_val:\n",
    "        max_val = list_of_nums[i]\n",
    "        \n",
    "toc = time.time()\n",
    "for_loop_time = toc - tic\n",
    "print('Using a for loop it took {}s and the maximum value is {}'.format(for_loop_time, max_val))\n",
    "\n",
    "# Using numpy.amax()\n",
    "tic = time.time()\n",
    "max_val = np.amax(list_of_nums)\n",
    "toc = time.time()\n",
    "\n",
    "np_sum_time = toc - tic\n",
    "\n",
    "print('Using np.amax() it took {}s and the maximum value is {}'.format(np_sum_time, max_val))\n",
    "\n",
    "print('np.amax() is {} times faster'.format(for_loop_time/np_sum_time))"
   ]
  },
  {
   "attachments": {},
   "cell_type": "markdown",
   "metadata": {},
   "source": [
    "## Add two vectors\n",
    "- Use a for loop\n",
    "- directly add two vectors"
   ]
  },
  {
   "cell_type": "code",
   "execution_count": 32,
   "metadata": {},
   "outputs": [
    {
     "name": "stdout",
     "output_type": "stream",
     "text": [
      "Using a for loop it took 0.14238786697387695s\n",
      "Using np.sum() it took 0.0006206035614013672s\n",
      "Vectorize adding is 229.43449865539762 times faster\n"
     ]
    }
   ],
   "source": [
    "list_of_nums1 = np.arange(100000)\n",
    "list_of_nums2 = np.arange(100000)\n",
    "\n",
    "# For loop\n",
    "tic = time.time()\n",
    "sol = np.empty((100000, 1))\n",
    "\n",
    "for i in range(100000):\n",
    "    sol[i] = list_of_nums1[i] + list_of_nums2[i]\n",
    "    \n",
    "toc = time.time()\n",
    "\n",
    "for_loop_time = toc - tic\n",
    "print('Using a for loop it took {}s'.format(for_loop_time))\n",
    "\n",
    "# Vectorize adding\n",
    "tic = time.time()\n",
    "sol = list_of_nums1 + list_of_nums2\n",
    "toc = time.time()\n",
    "\n",
    "vec_time = toc - tic\n",
    "print('Using np.sum() it took {}s'.format(vec_time))\n",
    "\n",
    "print('Vectorize adding is {} times faster'.format(for_loop_time/vec_time))"
   ]
  }
 ],
 "metadata": {
  "kernelspec": {
   "display_name": "Python 3",
   "language": "python",
   "name": "python3"
  },
  "language_info": {
   "codemirror_mode": {
    "name": "ipython",
    "version": 3
   },
   "file_extension": ".py",
   "mimetype": "text/x-python",
   "name": "python",
   "nbconvert_exporter": "python",
   "pygments_lexer": "ipython3",
   "version": "3.11.3"
  },
  "latex_envs": {
   "LaTeX_envs_menu_present": true,
   "autoclose": true,
   "autocomplete": true,
   "bibliofile": "biblio.bib",
   "cite_by": "apalike",
   "current_citInitial": 1,
   "eqLabelWithNumbers": true,
   "eqNumInitial": 1,
   "hotkeys": {
    "equation": "Ctrl-E",
    "itemize": "Ctrl-I"
   },
   "labels_anchors": false,
   "latex_user_defs": false,
   "report_style_numbering": false,
   "user_envs_cfg": false
  }
 },
 "nbformat": 4,
 "nbformat_minor": 2
}
