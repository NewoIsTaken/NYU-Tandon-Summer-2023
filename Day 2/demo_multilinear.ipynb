{
 "cells": [
  {
   "attachments": {},
   "cell_type": "markdown",
   "metadata": {
    "colab_type": "text",
    "id": "w78DOASLWcCD"
   },
   "source": [
    "# Demo: Multivariable Regression on Boston Housing Data"
   ]
  },
  {
   "cell_type": "code",
   "execution_count": 1,
   "metadata": {
    "colab": {
     "base_uri": "https://localhost:8080/",
     "height": 54
    },
    "colab_type": "code",
    "id": "iDw4tjflX1C1",
    "outputId": "b88598eb-d16e-49f2-9f27-5321b3b438a2"
   },
   "outputs": [
    {
     "data": {
      "text/plain": [
       "\"\\nAttribute Information:\\n    1.  CRIM            per capita crime rate by town\\n    2.  ZN              proportion of residential land zoned for lots over \\n                        25,000 sq.ft.\\n    3.  INDUS           proportion of non-retail business acres per town\\n    4.  CHAS            Charles River dummy variable (= 1 if tract bounds \\n                        river; 0 otherwise)\\n    5.  NOX             nitric oxides concentration (parts per 10 million)\\n    6.  RM              average number of rooms per dwelling\\n    7.  AGE             proportion of owner-occupied units built prior to 1940\\n    8.  DIS             weighted distances to five Boston employment centres\\n    9.  RAD             index of accessibility to radial highways\\n    10. TAX             full-value property-tax rate per $10,000\\n    11. PTRATIO         pupil-teacher ratio by town\\n    12. B               1000(Bk - 0.63)^2 where Bk is the proportion of blocks by town\\n    13. LSTAT           % lower status of the population\\n    14. MEDV (PRICE)    Median value of owner-occupied homes in $1000's\\n\""
      ]
     },
     "execution_count": 1,
     "metadata": {},
     "output_type": "execute_result"
    }
   ],
   "source": [
    "import pandas as pd\n",
    "import numpy as np\n",
    "\n",
    "names =['CRIM', 'ZN', 'INDUS', 'CHAS', 'NOX', 'RM', 'AGE',  'DIS', 'RAD', 'TAX', 'PTRATIO', 'B', 'LSTAT', 'PRICE']\n",
    "\n",
    "df = pd.read_csv('https://archive.ics.uci.edu/ml/machine-learning-databases/housing/housing.data', \n",
    "                 header=None, delim_whitespace=True, names=names, na_values='?')\n",
    "\n",
    "\"\"\"\n",
    "Attribute Information:\n",
    "    1.  CRIM            per capita crime rate by town\n",
    "    2.  ZN              proportion of residential land zoned for lots over \n",
    "                        25,000 sq.ft.\n",
    "    3.  INDUS           proportion of non-retail business acres per town\n",
    "    4.  CHAS            Charles River dummy variable (= 1 if tract bounds \n",
    "                        river; 0 otherwise)\n",
    "    5.  NOX             nitric oxides concentration (parts per 10 million)\n",
    "    6.  RM              average number of rooms per dwelling\n",
    "    7.  AGE             proportion of owner-occupied units built prior to 1940\n",
    "    8.  DIS             weighted distances to five Boston employment centres\n",
    "    9.  RAD             index of accessibility to radial highways\n",
    "    10. TAX             full-value property-tax rate per $10,000\n",
    "    11. PTRATIO         pupil-teacher ratio by town\n",
    "    12. B               1000(Bk - 0.63)^2 where Bk is the proportion of blocks by town\n",
    "    13. LSTAT           % lower status of the population\n",
    "    14. MEDV (PRICE)    Median value of owner-occupied homes in $1000's\n",
    "\"\"\""
   ]
  },
  {
   "attachments": {},
   "cell_type": "markdown",
   "metadata": {
    "colab_type": "text",
    "id": "3_jtITf0KLkf"
   },
   "source": [
    "## Forming the Design Matrix\n",
    "\n",
    "We want to put our features into feature vectors (stacked into a design matrix). Here we check the difference between the numpy and pandas datatype, and see the importance of using ```df['feature'].values``` to get a numpy array returned."
   ]
  },
  {
   "cell_type": "code",
   "execution_count": 2,
   "metadata": {
    "colab": {
     "base_uri": "https://localhost:8080/",
     "height": 51
    },
    "colab_type": "code",
    "id": "LTKzw2raPlZj",
    "outputId": "7c45ede8-ed0d-4387-b4e9-9572896e4ae7"
   },
   "outputs": [
    {
     "name": "stdout",
     "output_type": "stream",
     "text": [
      "['CRIM', 'ZN', 'INDUS', 'CHAS', 'NOX', 'RM', 'AGE', 'DIS', 'RAD', 'TAX', 'PTRATIO', 'B', 'LSTAT', 'PRICE']\n",
      "['CRIM', 'ZN', 'INDUS', 'CHAS', 'NOX', 'RM', 'AGE', 'DIS', 'RAD', 'TAX', 'PTRATIO', 'B', 'LSTAT']\n"
     ]
    }
   ],
   "source": [
    "print(df.columns.to_list())\n",
    "features=df.columns.to_list()\n",
    "features.remove('PRICE')\n",
    "print(features)"
   ]
  },
  {
   "attachments": {},
   "cell_type": "markdown",
   "metadata": {
    "colab_type": "text",
    "id": "jhjwussDaUHG"
   },
   "source": [
    "Treat all the features as a vector, $\\mathbf{x}$, and stack the samples in a $N$ by $D$ matrix, $X$, where $N$ is the number of samples and $D$ is the number of features."
   ]
  },
  {
   "cell_type": "code",
   "execution_count": 3,
   "metadata": {
    "colab": {
     "base_uri": "https://localhost:8080/",
     "height": 255
    },
    "colab_type": "code",
    "id": "jS5abEJGZWEp",
    "outputId": "dd3f763c-7bc2-42c6-d864-b1de6c077cd3"
   },
   "outputs": [
    {
     "name": "stdout",
     "output_type": "stream",
     "text": [
      "        CRIM    ZN  INDUS  CHAS    NOX     RM   AGE     DIS  RAD    TAX  \\\n",
      "0    0.00632  18.0   2.31     0  0.538  6.575  65.2  4.0900    1  296.0   \n",
      "1    0.02731   0.0   7.07     0  0.469  6.421  78.9  4.9671    2  242.0   \n",
      "2    0.02729   0.0   7.07     0  0.469  7.185  61.1  4.9671    2  242.0   \n",
      "3    0.03237   0.0   2.18     0  0.458  6.998  45.8  6.0622    3  222.0   \n",
      "4    0.06905   0.0   2.18     0  0.458  7.147  54.2  6.0622    3  222.0   \n",
      "..       ...   ...    ...   ...    ...    ...   ...     ...  ...    ...   \n",
      "501  0.06263   0.0  11.93     0  0.573  6.593  69.1  2.4786    1  273.0   \n",
      "502  0.04527   0.0  11.93     0  0.573  6.120  76.7  2.2875    1  273.0   \n",
      "503  0.06076   0.0  11.93     0  0.573  6.976  91.0  2.1675    1  273.0   \n",
      "504  0.10959   0.0  11.93     0  0.573  6.794  89.3  2.3889    1  273.0   \n",
      "505  0.04741   0.0  11.93     0  0.573  6.030  80.8  2.5050    1  273.0   \n",
      "\n",
      "     PTRATIO       B  LSTAT  PRICE  \n",
      "0       15.3  396.90   4.98   24.0  \n",
      "1       17.8  396.90   9.14   21.6  \n",
      "2       17.8  392.83   4.03   34.7  \n",
      "3       18.7  394.63   2.94   33.4  \n",
      "4       18.7  396.90   5.33   36.2  \n",
      "..       ...     ...    ...    ...  \n",
      "501     21.0  391.99   9.67   22.4  \n",
      "502     21.0  396.90   9.08   20.6  \n",
      "503     21.0  396.90   5.64   23.9  \n",
      "504     21.0  393.45   6.48   22.0  \n",
      "505     21.0  396.90   7.88   11.9  \n",
      "\n",
      "[506 rows x 14 columns]\n"
     ]
    }
   ],
   "source": [
    "print(df)"
   ]
  },
  {
   "cell_type": "code",
   "execution_count": 4,
   "metadata": {
    "colab": {
     "base_uri": "https://localhost:8080/",
     "height": 153
    },
    "colab_type": "code",
    "id": "Pa2MknICnmJJ",
    "outputId": "cd3c0d99-77bc-42f6-8692-a6249ffa740a"
   },
   "outputs": [
    {
     "name": "stdout",
     "output_type": "stream",
     "text": [
      "[[6.3200e-03 1.8000e+01 2.3100e+00 ... 1.5300e+01 3.9690e+02 4.9800e+00]\n",
      " [2.7310e-02 0.0000e+00 7.0700e+00 ... 1.7800e+01 3.9690e+02 9.1400e+00]\n",
      " [2.7290e-02 0.0000e+00 7.0700e+00 ... 1.7800e+01 3.9283e+02 4.0300e+00]\n",
      " ...\n",
      " [6.0760e-02 0.0000e+00 1.1930e+01 ... 2.1000e+01 3.9690e+02 5.6400e+00]\n",
      " [1.0959e-01 0.0000e+00 1.1930e+01 ... 2.1000e+01 3.9345e+02 6.4800e+00]\n",
      " [4.7410e-02 0.0000e+00 1.1930e+01 ... 2.1000e+01 3.9690e+02 7.8800e+00]]\n",
      "(506, 13)\n",
      "The dataset contains 506 data points with 13 features\n"
     ]
    }
   ],
   "source": [
    "# Features\n",
    "X = df[features].values\n",
    "print(X)\n",
    "print(X.shape)\n",
    "print(f\"The dataset contains {X.shape[0]} data points with {X.shape[1]} features\")"
   ]
  },
  {
   "cell_type": "code",
   "execution_count": 5,
   "metadata": {
    "colab": {
     "base_uri": "https://localhost:8080/",
     "height": 51
    },
    "colab_type": "code",
    "id": "okBuUq7iY02B",
    "outputId": "0b36bd6a-d4de-4a9d-c901-aa1e232ad38f"
   },
   "outputs": [
    {
     "name": "stdout",
     "output_type": "stream",
     "text": [
      "(506,)\n",
      "(506, 1)\n"
     ]
    }
   ],
   "source": [
    "# Labels\n",
    "y = df['PRICE'].values\n",
    "print(y.shape)\n",
    "y = y.reshape(-1,1)\n",
    "print(y.shape)"
   ]
  },
  {
   "attachments": {},
   "cell_type": "markdown",
   "metadata": {},
   "source": [
    "# Linear Regression"
   ]
  },
  {
   "attachments": {},
   "cell_type": "markdown",
   "metadata": {},
   "source": [
    "We are going to use [sklearn](https://scikit-learn.org/stable/modules/linear_model.html#ordinary-least-squares).\n",
    "\n",
    "First, we define a linear regression model and we fit the model to our data.\n",
    "\n",
    "[LinearRegression](https://scikit-learn.org/stable/modules/generated/sklearn.linear_model.LinearRegression.html)"
   ]
  },
  {
   "cell_type": "code",
   "execution_count": 6,
   "metadata": {
    "colab": {
     "base_uri": "https://localhost:8080/",
     "height": 34
    },
    "colab_type": "code",
    "id": "6bd5v3KKnwWz",
    "outputId": "4ebd7afe-5138-4049-ff82-c547d8c373dc"
   },
   "outputs": [
    {
     "data": {
      "text/html": [
       "<style>#sk-container-id-1 {color: black;background-color: white;}#sk-container-id-1 pre{padding: 0;}#sk-container-id-1 div.sk-toggleable {background-color: white;}#sk-container-id-1 label.sk-toggleable__label {cursor: pointer;display: block;width: 100%;margin-bottom: 0;padding: 0.3em;box-sizing: border-box;text-align: center;}#sk-container-id-1 label.sk-toggleable__label-arrow:before {content: \"▸\";float: left;margin-right: 0.25em;color: #696969;}#sk-container-id-1 label.sk-toggleable__label-arrow:hover:before {color: black;}#sk-container-id-1 div.sk-estimator:hover label.sk-toggleable__label-arrow:before {color: black;}#sk-container-id-1 div.sk-toggleable__content {max-height: 0;max-width: 0;overflow: hidden;text-align: left;background-color: #f0f8ff;}#sk-container-id-1 div.sk-toggleable__content pre {margin: 0.2em;color: black;border-radius: 0.25em;background-color: #f0f8ff;}#sk-container-id-1 input.sk-toggleable__control:checked~div.sk-toggleable__content {max-height: 200px;max-width: 100%;overflow: auto;}#sk-container-id-1 input.sk-toggleable__control:checked~label.sk-toggleable__label-arrow:before {content: \"▾\";}#sk-container-id-1 div.sk-estimator input.sk-toggleable__control:checked~label.sk-toggleable__label {background-color: #d4ebff;}#sk-container-id-1 div.sk-label input.sk-toggleable__control:checked~label.sk-toggleable__label {background-color: #d4ebff;}#sk-container-id-1 input.sk-hidden--visually {border: 0;clip: rect(1px 1px 1px 1px);clip: rect(1px, 1px, 1px, 1px);height: 1px;margin: -1px;overflow: hidden;padding: 0;position: absolute;width: 1px;}#sk-container-id-1 div.sk-estimator {font-family: monospace;background-color: #f0f8ff;border: 1px dotted black;border-radius: 0.25em;box-sizing: border-box;margin-bottom: 0.5em;}#sk-container-id-1 div.sk-estimator:hover {background-color: #d4ebff;}#sk-container-id-1 div.sk-parallel-item::after {content: \"\";width: 100%;border-bottom: 1px solid gray;flex-grow: 1;}#sk-container-id-1 div.sk-label:hover label.sk-toggleable__label {background-color: #d4ebff;}#sk-container-id-1 div.sk-serial::before {content: \"\";position: absolute;border-left: 1px solid gray;box-sizing: border-box;top: 0;bottom: 0;left: 50%;z-index: 0;}#sk-container-id-1 div.sk-serial {display: flex;flex-direction: column;align-items: center;background-color: white;padding-right: 0.2em;padding-left: 0.2em;position: relative;}#sk-container-id-1 div.sk-item {position: relative;z-index: 1;}#sk-container-id-1 div.sk-parallel {display: flex;align-items: stretch;justify-content: center;background-color: white;position: relative;}#sk-container-id-1 div.sk-item::before, #sk-container-id-1 div.sk-parallel-item::before {content: \"\";position: absolute;border-left: 1px solid gray;box-sizing: border-box;top: 0;bottom: 0;left: 50%;z-index: -1;}#sk-container-id-1 div.sk-parallel-item {display: flex;flex-direction: column;z-index: 1;position: relative;background-color: white;}#sk-container-id-1 div.sk-parallel-item:first-child::after {align-self: flex-end;width: 50%;}#sk-container-id-1 div.sk-parallel-item:last-child::after {align-self: flex-start;width: 50%;}#sk-container-id-1 div.sk-parallel-item:only-child::after {width: 0;}#sk-container-id-1 div.sk-dashed-wrapped {border: 1px dashed gray;margin: 0 0.4em 0.5em 0.4em;box-sizing: border-box;padding-bottom: 0.4em;background-color: white;}#sk-container-id-1 div.sk-label label {font-family: monospace;font-weight: bold;display: inline-block;line-height: 1.2em;}#sk-container-id-1 div.sk-label-container {text-align: center;}#sk-container-id-1 div.sk-container {/* jupyter's `normalize.less` sets `[hidden] { display: none; }` but bootstrap.min.css set `[hidden] { display: none !important; }` so we also need the `!important` here to be able to override the default hidden behavior on the sphinx rendered scikit-learn.org. See: https://github.com/scikit-learn/scikit-learn/issues/21755 */display: inline-block !important;position: relative;}#sk-container-id-1 div.sk-text-repr-fallback {display: none;}</style><div id=\"sk-container-id-1\" class=\"sk-top-container\"><div class=\"sk-text-repr-fallback\"><pre>LinearRegression()</pre><b>In a Jupyter environment, please rerun this cell to show the HTML representation or trust the notebook. <br />On GitHub, the HTML representation is unable to render, please try loading this page with nbviewer.org.</b></div><div class=\"sk-container\" hidden><div class=\"sk-item\"><div class=\"sk-estimator sk-toggleable\"><input class=\"sk-toggleable__control sk-hidden--visually\" id=\"sk-estimator-id-1\" type=\"checkbox\" checked><label for=\"sk-estimator-id-1\" class=\"sk-toggleable__label sk-toggleable__label-arrow\">LinearRegression</label><div class=\"sk-toggleable__content\"><pre>LinearRegression()</pre></div></div></div></div></div>"
      ],
      "text/plain": [
       "LinearRegression()"
      ]
     },
     "execution_count": 6,
     "metadata": {},
     "output_type": "execute_result"
    }
   ],
   "source": [
    "from sklearn.linear_model import LinearRegression\n",
    "\n",
    "regr = LinearRegression(fit_intercept=True)\n",
    "regr.fit(X, y)"
   ]
  },
  {
   "attachments": {},
   "cell_type": "markdown",
   "metadata": {},
   "source": [
    "The accuracy of the model could be evaluated by finding the MSE between the model prediction and corresponding data points"
   ]
  },
  {
   "cell_type": "code",
   "execution_count": 7,
   "metadata": {
    "colab": {
     "base_uri": "https://localhost:8080/",
     "height": 34
    },
    "colab_type": "code",
    "id": "lrYanikWnzOt",
    "outputId": "e19bd626-5758-4fc3-9cd3-39da700ff2d5"
   },
   "outputs": [
    {
     "name": "stdout",
     "output_type": "stream",
     "text": [
      "(506, 1)\n"
     ]
    }
   ],
   "source": [
    "y_hat = regr.predict(X)  # Model prediction\n",
    "print(y_hat.shape)"
   ]
  },
  {
   "cell_type": "code",
   "execution_count": 8,
   "metadata": {
    "colab": {
     "base_uri": "https://localhost:8080/",
     "height": 34
    },
    "colab_type": "code",
    "id": "VCzXiQPun1mP",
    "outputId": "263aa978-63ac-45db-b38b-8bdb61de66d2"
   },
   "outputs": [
    {
     "name": "stdout",
     "output_type": "stream",
     "text": [
      "21.894831181729202\n"
     ]
    }
   ],
   "source": [
    "mse_y = np.mean((y-y_hat)**2)\n",
    "print(mse_y)"
   ]
  },
  {
   "attachments": {},
   "cell_type": "markdown",
   "metadata": {},
   "source": [
    "### Here are the parameter of the model :"
   ]
  },
  {
   "cell_type": "code",
   "execution_count": 9,
   "metadata": {
    "colab": {
     "base_uri": "https://localhost:8080/",
     "height": 102
    },
    "colab_type": "code",
    "id": "rstorV9_n7zi",
    "outputId": "1ebd1496-64c4-406d-e110-d346877580f7"
   },
   "outputs": [
    {
     "name": "stdout",
     "output_type": "stream",
     "text": [
      "[[-1.08011358e-01  4.64204584e-02  2.05586264e-02  2.68673382e+00\n",
      "  -1.77666112e+01  3.80986521e+00  6.92224640e-04 -1.47556685e+00\n",
      "   3.06049479e-01 -1.23345939e-02 -9.52747232e-01  9.31168327e-03\n",
      "  -5.24758378e-01]]\n",
      "[36.45948839]\n"
     ]
    }
   ],
   "source": [
    "print(regr.coef_)        # this is [w_1, ...., w_n]\n",
    "print(regr.intercept_)   # this the bias w_0"
   ]
  },
  {
   "attachments": {},
   "cell_type": "markdown",
   "metadata": {},
   "source": [
    "### Here is a fancy way to compare $y$ and $\\hat{y}$ :"
   ]
  },
  {
   "cell_type": "code",
   "execution_count": 10,
   "metadata": {
    "colab": {
     "base_uri": "https://localhost:8080/",
     "height": 187
    },
    "colab_type": "code",
    "id": "EGispxQZoK5y",
    "outputId": "357027b8-81f9-4467-9ffe-6658e9ffdc6d"
   },
   "outputs": [
    {
     "name": "stdout",
     "output_type": "stream",
     "text": [
      "[[24.   30.  ]\n",
      " [21.6  25.03]\n",
      " [34.7  30.57]\n",
      " [33.4  28.61]\n",
      " [36.2  27.94]\n",
      " [28.7  25.26]\n",
      " [22.9  23.  ]\n",
      " [27.1  19.54]\n",
      " [16.5  11.52]\n",
      " [18.9  18.92]]\n"
     ]
    }
   ],
   "source": [
    "Y = np.hstack([y, y_hat])\n",
    "with np.printoptions(precision=2):\n",
    "    print(Y[:10,:])"
   ]
  },
  {
   "attachments": {},
   "cell_type": "markdown",
   "metadata": {
    "colab_type": "text",
    "id": "My_yW7qiLhMd"
   },
   "source": [
    "# Exercise : \n",
    "Compute the Least square solution with numpy and compare your result with the one of sklearn !"
   ]
  },
  {
   "cell_type": "code",
   "execution_count": 11,
   "metadata": {
    "colab": {
     "base_uri": "https://localhost:8080/",
     "height": 34
    },
    "colab_type": "code",
    "id": "fCgBwDJaY02E",
    "outputId": "6c4d3a12-d95a-4c64-ae0f-67ba3afb3e74"
   },
   "outputs": [
    {
     "name": "stdout",
     "output_type": "stream",
     "text": [
      "21.894831181729206\n"
     ]
    }
   ],
   "source": [
    "ones = np.ones((X.shape[0], 1))\n",
    "xN = np.hstack([ones, X])\n",
    "w = np.linalg.inv(xN.transpose() @ xN) @ xN.transpose() @ y\n",
    "yHat = xN @ w\n",
    "MSE = np.mean((y - yHat) ** 2)\n",
    "print(MSE)"
   ]
  }
 ],
 "metadata": {
  "colab": {
   "collapsed_sections": [
    "vKrhN7KoDRi1"
   ],
   "name": "Day2_Student.ipynb",
   "provenance": []
  },
  "kernelspec": {
   "display_name": "Python 3",
   "language": "python",
   "name": "python3"
  },
  "language_info": {
   "codemirror_mode": {
    "name": "ipython",
    "version": 3
   },
   "file_extension": ".py",
   "mimetype": "text/x-python",
   "name": "python",
   "nbconvert_exporter": "python",
   "pygments_lexer": "ipython3",
   "version": "3.11.3"
  },
  "latex_envs": {
   "LaTeX_envs_menu_present": true,
   "autoclose": true,
   "autocomplete": true,
   "bibliofile": "biblio.bib",
   "cite_by": "apalike",
   "current_citInitial": 1,
   "eqLabelWithNumbers": true,
   "eqNumInitial": 1,
   "hotkeys": {
    "equation": "Ctrl-E",
    "itemize": "Ctrl-I"
   },
   "labels_anchors": false,
   "latex_user_defs": false,
   "report_style_numbering": false,
   "user_envs_cfg": false
  }
 },
 "nbformat": 4,
 "nbformat_minor": 1
}
